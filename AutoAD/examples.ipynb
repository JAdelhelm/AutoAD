{
 "cells": [
  {
   "cell_type": "markdown",
   "metadata": {},
   "source": [
    "## Examples - AutoAD"
   ]
  },
  {
   "cell_type": "code",
   "execution_count": 1,
   "metadata": {},
   "outputs": [
    {
     "name": "stdout",
     "output_type": "stream",
     "text": [
      "Requirement already satisfied: kaggle in c:\\users\\joerg\\anaconda3\\envs\\dl_env\\lib\\site-packages (1.6.17)\n",
      "Requirement already satisfied: six>=1.10 in c:\\users\\joerg\\anaconda3\\envs\\dl_env\\lib\\site-packages (from kaggle) (1.16.0)\n",
      "Requirement already satisfied: certifi>=2023.7.22 in c:\\users\\joerg\\anaconda3\\envs\\dl_env\\lib\\site-packages (from kaggle) (2024.2.2)\n",
      "Requirement already satisfied: python-dateutil in c:\\users\\joerg\\anaconda3\\envs\\dl_env\\lib\\site-packages (from kaggle) (2.8.2)\n",
      "Requirement already satisfied: requests in c:\\users\\joerg\\anaconda3\\envs\\dl_env\\lib\\site-packages (from kaggle) (2.31.0)\n",
      "Requirement already satisfied: tqdm in c:\\users\\joerg\\anaconda3\\envs\\dl_env\\lib\\site-packages (from kaggle) (4.66.2)\n",
      "Requirement already satisfied: python-slugify in c:\\users\\joerg\\anaconda3\\envs\\dl_env\\lib\\site-packages (from kaggle) (8.0.1)\n",
      "Requirement already satisfied: urllib3 in c:\\users\\joerg\\anaconda3\\envs\\dl_env\\lib\\site-packages (from kaggle) (2.2.1)\n",
      "Requirement already satisfied: bleach in c:\\users\\joerg\\anaconda3\\envs\\dl_env\\lib\\site-packages (from kaggle) (6.1.0)\n",
      "Requirement already satisfied: webencodings in c:\\users\\joerg\\anaconda3\\envs\\dl_env\\lib\\site-packages (from bleach->kaggle) (0.5.1)\n",
      "Requirement already satisfied: text-unidecode>=1.3 in c:\\users\\joerg\\anaconda3\\envs\\dl_env\\lib\\site-packages (from python-slugify->kaggle) (1.3)\n",
      "Requirement already satisfied: charset-normalizer<4,>=2 in c:\\users\\joerg\\anaconda3\\envs\\dl_env\\lib\\site-packages (from requests->kaggle) (3.3.2)\n",
      "Requirement already satisfied: idna<4,>=2.5 in c:\\users\\joerg\\anaconda3\\envs\\dl_env\\lib\\site-packages (from requests->kaggle) (3.7)\n",
      "Requirement already satisfied: colorama in c:\\users\\joerg\\anaconda3\\envs\\dl_env\\lib\\site-packages (from tqdm->kaggle) (0.4.6)\n",
      "Note: you may need to restart the kernel to use updated packages.\n"
     ]
    }
   ],
   "source": [
    "%pip install kaggle"
   ]
  },
  {
   "cell_type": "markdown",
   "metadata": {},
   "source": [
    "You can find the API Username and Key in your Kaggle Account under:\n",
    "1. Settings\n",
    "2. API - Create New Token "
   ]
  },
  {
   "cell_type": "code",
   "execution_count": 2,
   "metadata": {},
   "outputs": [],
   "source": [
    "import os\n",
    "from dotenv import load_dotenv\n",
    "\n",
    "# Create dataset directory if it doesnt exist\n",
    "if not os.path.exists(\"datasets\"):\n",
    "    os.makedirs(\"datasets\")\n",
    "\n",
    "# Load API-Credentials\n",
    "load_dotenv(dotenv_path=\"../.env\")\n",
    "\n",
    "kaggle_username = os.getenv(\"KAGGLE_USERNAME\")\n",
    "kaggle_password = os.getenv(\"KAGGLE_KEY\")"
   ]
  },
  {
   "cell_type": "code",
   "execution_count": 3,
   "metadata": {},
   "outputs": [],
   "source": [
    "import kaggle\n",
    "kaggle.api.authenticate()"
   ]
  },
  {
   "cell_type": "markdown",
   "metadata": {},
   "source": [
    "### Movie Reviews - Example"
   ]
  },
  {
   "cell_type": "code",
   "execution_count": 4,
   "metadata": {},
   "outputs": [
    {
     "name": "stdout",
     "output_type": "stream",
     "text": [
      "Dataset URL: https://www.kaggle.com/datasets/harshitshankhdhar/imdb-dataset-of-top-1000-movies-and-tv-shows\n"
     ]
    }
   ],
   "source": [
    "# Animals - Dataset\n",
    "kaggle.api.dataset_download_files('harshitshankhdhar/imdb-dataset-of-top-1000-movies-and-tv-shows', path='./datasets', unzip=True)\n",
    "\n",
    "\n",
    "\n",
    "from pyod.models.iforest import IForest\n",
    "import pandas as pd\n",
    "from sklearn import set_config\n",
    "\n",
    "from autoad.autoad import AutoAD\n",
    "\n",
    "set_config(transform_output=\"pandas\")\n",
    "\n",
    "\n",
    "X = pd.read_csv(\"./datasets/imdb_top_1000.csv\")\n",
    "\n",
    "\n",
    "pipeline_ad = AutoAD()\n",
    "pipeline_ad.fit(X=X, clf_ad=IForest())\n",
    "\n",
    "\n",
    "X_output = pipeline_ad.transform(X=X)"
   ]
  },
  {
   "cell_type": "code",
   "execution_count": 5,
   "metadata": {},
   "outputs": [
    {
     "data": {
      "text/html": [
       "<div>\n",
       "<style scoped>\n",
       "    .dataframe tbody tr th:only-of-type {\n",
       "        vertical-align: middle;\n",
       "    }\n",
       "\n",
       "    .dataframe tbody tr th {\n",
       "        vertical-align: top;\n",
       "    }\n",
       "\n",
       "    .dataframe thead th {\n",
       "        text-align: right;\n",
       "    }\n",
       "</style>\n",
       "<table border=\"1\" class=\"dataframe\">\n",
       "  <thead>\n",
       "    <tr style=\"text-align: right;\">\n",
       "      <th></th>\n",
       "      <th>Feature</th>\n",
       "      <th>Importance</th>\n",
       "    </tr>\n",
       "  </thead>\n",
       "  <tbody>\n",
       "    <tr>\n",
       "      <th>4</th>\n",
       "      <td>No_of_Votes</td>\n",
       "      <td>0.012765</td>\n",
       "    </tr>\n",
       "    <tr>\n",
       "      <th>30</th>\n",
       "      <td>categorical__Released_Year_5</td>\n",
       "      <td>0.012603</td>\n",
       "    </tr>\n",
       "    <tr>\n",
       "      <th>92</th>\n",
       "      <td>categorical__Star2_9</td>\n",
       "      <td>0.011889</td>\n",
       "    </tr>\n",
       "    <tr>\n",
       "      <th>3</th>\n",
       "      <td>Meta_score</td>\n",
       "      <td>0.011167</td>\n",
       "    </tr>\n",
       "    <tr>\n",
       "      <th>76</th>\n",
       "      <td>categorical__Star1_3</td>\n",
       "      <td>0.011086</td>\n",
       "    </tr>\n",
       "    <tr>\n",
       "      <th>...</th>\n",
       "      <td>...</td>\n",
       "      <td>...</td>\n",
       "    </tr>\n",
       "    <tr>\n",
       "      <th>1</th>\n",
       "      <td>MAD_Total</td>\n",
       "      <td>0.000000</td>\n",
       "    </tr>\n",
       "    <tr>\n",
       "      <th>125</th>\n",
       "      <td>missingindicator_Released_Year</td>\n",
       "      <td>0.000000</td>\n",
       "    </tr>\n",
       "    <tr>\n",
       "      <th>124</th>\n",
       "      <td>missingindicator_Series_Title</td>\n",
       "      <td>0.000000</td>\n",
       "    </tr>\n",
       "    <tr>\n",
       "      <th>123</th>\n",
       "      <td>missingindicator_Poster_Link</td>\n",
       "      <td>0.000000</td>\n",
       "    </tr>\n",
       "    <tr>\n",
       "      <th>127</th>\n",
       "      <td>missingindicator_Runtime</td>\n",
       "      <td>0.000000</td>\n",
       "    </tr>\n",
       "  </tbody>\n",
       "</table>\n",
       "<p>139 rows × 2 columns</p>\n",
       "</div>"
      ],
      "text/plain": [
       "                            Feature  Importance\n",
       "4                       No_of_Votes    0.012765\n",
       "30     categorical__Released_Year_5    0.012603\n",
       "92             categorical__Star2_9    0.011889\n",
       "3                        Meta_score    0.011167\n",
       "76             categorical__Star1_3    0.011086\n",
       "..                              ...         ...\n",
       "1                         MAD_Total    0.000000\n",
       "125  missingindicator_Released_Year    0.000000\n",
       "124   missingindicator_Series_Title    0.000000\n",
       "123    missingindicator_Poster_Link    0.000000\n",
       "127        missingindicator_Runtime    0.000000\n",
       "\n",
       "[139 rows x 2 columns]"
      ]
     },
     "execution_count": 5,
     "metadata": {},
     "output_type": "execute_result"
    }
   ],
   "source": [
    "pipeline_ad.feature_importances_clf"
   ]
  },
  {
   "cell_type": "code",
   "execution_count": null,
   "metadata": {},
   "outputs": [],
   "source": [
    "X_output.head(5)"
   ]
  },
  {
   "cell_type": "markdown",
   "metadata": {},
   "source": [
    "### FIFA - Example"
   ]
  },
  {
   "cell_type": "code",
   "execution_count": null,
   "metadata": {},
   "outputs": [],
   "source": [
    "# FIFA - Dataset\n",
    "kaggle.api.dataset_download_files('maso0dahmed/football-players-data', path='./datasets', unzip=True)\n",
    "\n",
    "from pyod.models.pca import PCA\n",
    "import pandas as pd\n",
    "from sklearn import set_config\n",
    "\n",
    "from autoad.autoad import AutoAD\n",
    "\n",
    "set_config(transform_output=\"pandas\")\n",
    "\n",
    "\n",
    "X = pd.read_csv(\"./datasets/fifa_players.csv\")\n",
    "\n",
    "pipeline_ad = AutoAD()\n",
    "pipeline_ad.fit(X=X, clf_ad=PCA())\n",
    "\n",
    "X_output = pipeline_ad.transform(X=X)\n",
    "\n",
    "X_output.head(5)"
   ]
  },
  {
   "cell_type": "markdown",
   "metadata": {},
   "source": [
    "### NFL Football Player Stats - Example"
   ]
  },
  {
   "cell_type": "code",
   "execution_count": null,
   "metadata": {},
   "outputs": [],
   "source": [
    "# NFL Football Player Stats - Dataset\n",
    "kaggle.api.dataset_download_files('zynicide/nfl-football-player-stats', path='./datasets', unzip=True)\n",
    "\n",
    "from pyod.models.pca import PCA\n",
    "import pandas as pd\n",
    "from sklearn import set_config\n",
    "\n",
    "from autoad.autoad import AutoAD\n",
    "\n",
    "set_config(transform_output=\"pandas\")\n",
    "\n",
    "\n",
    "X = pd.read_json(\"./datasets/profiles_1512362725.022629.json\")\n",
    "pipeline_ad = AutoAD()\n",
    "pipeline_ad.fit(X=X, clf_ad=PCA())\n",
    "\n",
    "X_output = pipeline_ad.transform(X=X)\n",
    "\n",
    "X_output.head(5)"
   ]
  }
 ],
 "metadata": {
  "kernelspec": {
   "display_name": "dl_env",
   "language": "python",
   "name": "python3"
  },
  "language_info": {
   "codemirror_mode": {
    "name": "ipython",
    "version": 3
   },
   "file_extension": ".py",
   "mimetype": "text/x-python",
   "name": "python",
   "nbconvert_exporter": "python",
   "pygments_lexer": "ipython3",
   "version": "3.11.8"
  }
 },
 "nbformat": 4,
 "nbformat_minor": 2
}
